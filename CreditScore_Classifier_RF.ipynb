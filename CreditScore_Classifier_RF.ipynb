{
 "cells": [
  {
   "cell_type": "code",
   "execution_count": 274,
   "metadata": {},
   "outputs": [],
   "source": [
    "import pandas as pd\n",
    "import numpy as np\n",
    "import seaborn as sns\n",
    "import matplotlib.pyplot as plt\n",
    "from sklearn import metrics\n",
    "import warnings"
   ]
  },
  {
   "cell_type": "code",
   "execution_count": 275,
   "metadata": {},
   "outputs": [
    {
     "data": {
      "text/html": [
       "<div>\n",
       "<style scoped>\n",
       "    .dataframe tbody tr th:only-of-type {\n",
       "        vertical-align: middle;\n",
       "    }\n",
       "\n",
       "    .dataframe tbody tr th {\n",
       "        vertical-align: top;\n",
       "    }\n",
       "\n",
       "    .dataframe thead th {\n",
       "        text-align: right;\n",
       "    }\n",
       "</style>\n",
       "<table border=\"1\" class=\"dataframe\">\n",
       "  <thead>\n",
       "    <tr style=\"text-align: right;\">\n",
       "      <th></th>\n",
       "      <th>Unnamed: 0</th>\n",
       "      <th>ID</th>\n",
       "      <th>Customer_ID</th>\n",
       "      <th>Month</th>\n",
       "      <th>Name</th>\n",
       "      <th>Age</th>\n",
       "      <th>SSN</th>\n",
       "      <th>Occupation</th>\n",
       "      <th>Annual_Income</th>\n",
       "      <th>Monthly_Inhand_Salary</th>\n",
       "      <th>...</th>\n",
       "      <th>Credit_Mix</th>\n",
       "      <th>Outstanding_Debt</th>\n",
       "      <th>Credit_Utilization_Ratio</th>\n",
       "      <th>Credit_History_Age_inMonths</th>\n",
       "      <th>Payment_of_Min_Amount</th>\n",
       "      <th>Total_EMI_per_month</th>\n",
       "      <th>Amount_invested_monthly</th>\n",
       "      <th>Payment_Behaviour</th>\n",
       "      <th>Monthly_Balance</th>\n",
       "      <th>Credit_Score</th>\n",
       "    </tr>\n",
       "  </thead>\n",
       "  <tbody>\n",
       "    <tr>\n",
       "      <th>0</th>\n",
       "      <td>0</td>\n",
       "      <td>0x1602</td>\n",
       "      <td>CUS_0xd40</td>\n",
       "      <td>January</td>\n",
       "      <td>Aaron Maashoh</td>\n",
       "      <td>23</td>\n",
       "      <td>821-00-0265</td>\n",
       "      <td>Scientist</td>\n",
       "      <td>19114.12</td>\n",
       "      <td>1824.843333</td>\n",
       "      <td>...</td>\n",
       "      <td>NaN</td>\n",
       "      <td>809.98</td>\n",
       "      <td>26.822620</td>\n",
       "      <td>265.0</td>\n",
       "      <td>No</td>\n",
       "      <td>49.574949</td>\n",
       "      <td>80.415295</td>\n",
       "      <td>High_spent_Small_value_payments</td>\n",
       "      <td>312.494089</td>\n",
       "      <td>Good</td>\n",
       "    </tr>\n",
       "    <tr>\n",
       "      <th>1</th>\n",
       "      <td>1</td>\n",
       "      <td>0x1603</td>\n",
       "      <td>CUS_0xd40</td>\n",
       "      <td>February</td>\n",
       "      <td>Aaron Maashoh</td>\n",
       "      <td>23</td>\n",
       "      <td>821-00-0265</td>\n",
       "      <td>Scientist</td>\n",
       "      <td>19114.12</td>\n",
       "      <td>NaN</td>\n",
       "      <td>...</td>\n",
       "      <td>Good</td>\n",
       "      <td>809.98</td>\n",
       "      <td>31.944960</td>\n",
       "      <td>NaN</td>\n",
       "      <td>No</td>\n",
       "      <td>49.574949</td>\n",
       "      <td>118.280222</td>\n",
       "      <td>Low_spent_Large_value_payments</td>\n",
       "      <td>284.629163</td>\n",
       "      <td>Good</td>\n",
       "    </tr>\n",
       "    <tr>\n",
       "      <th>2</th>\n",
       "      <td>3</td>\n",
       "      <td>0x1605</td>\n",
       "      <td>CUS_0xd40</td>\n",
       "      <td>April</td>\n",
       "      <td>Aaron Maashoh</td>\n",
       "      <td>23</td>\n",
       "      <td>821-00-0265</td>\n",
       "      <td>Scientist</td>\n",
       "      <td>19114.12</td>\n",
       "      <td>NaN</td>\n",
       "      <td>...</td>\n",
       "      <td>Good</td>\n",
       "      <td>809.98</td>\n",
       "      <td>31.377862</td>\n",
       "      <td>268.0</td>\n",
       "      <td>No</td>\n",
       "      <td>49.574949</td>\n",
       "      <td>199.458074</td>\n",
       "      <td>Low_spent_Small_value_payments</td>\n",
       "      <td>223.451310</td>\n",
       "      <td>Good</td>\n",
       "    </tr>\n",
       "    <tr>\n",
       "      <th>3</th>\n",
       "      <td>4</td>\n",
       "      <td>0x1606</td>\n",
       "      <td>CUS_0xd40</td>\n",
       "      <td>May</td>\n",
       "      <td>Aaron Maashoh</td>\n",
       "      <td>23</td>\n",
       "      <td>821-00-0265</td>\n",
       "      <td>Scientist</td>\n",
       "      <td>19114.12</td>\n",
       "      <td>1824.843333</td>\n",
       "      <td>...</td>\n",
       "      <td>Good</td>\n",
       "      <td>809.98</td>\n",
       "      <td>24.797347</td>\n",
       "      <td>269.0</td>\n",
       "      <td>No</td>\n",
       "      <td>49.574949</td>\n",
       "      <td>41.420153</td>\n",
       "      <td>High_spent_Medium_value_payments</td>\n",
       "      <td>341.489231</td>\n",
       "      <td>Good</td>\n",
       "    </tr>\n",
       "    <tr>\n",
       "      <th>4</th>\n",
       "      <td>5</td>\n",
       "      <td>0x1607</td>\n",
       "      <td>CUS_0xd40</td>\n",
       "      <td>June</td>\n",
       "      <td>Aaron Maashoh</td>\n",
       "      <td>23</td>\n",
       "      <td>821-00-0265</td>\n",
       "      <td>Scientist</td>\n",
       "      <td>19114.12</td>\n",
       "      <td>NaN</td>\n",
       "      <td>...</td>\n",
       "      <td>Good</td>\n",
       "      <td>809.98</td>\n",
       "      <td>27.262259</td>\n",
       "      <td>270.0</td>\n",
       "      <td>No</td>\n",
       "      <td>49.574949</td>\n",
       "      <td>62.430172</td>\n",
       "      <td>!@9#%8</td>\n",
       "      <td>340.479212</td>\n",
       "      <td>Good</td>\n",
       "    </tr>\n",
       "  </tbody>\n",
       "</table>\n",
       "<p>5 rows × 29 columns</p>\n",
       "</div>"
      ],
      "text/plain": [
       "   Unnamed: 0      ID Customer_ID     Month           Name  Age          SSN  \\\n",
       "0           0  0x1602   CUS_0xd40   January  Aaron Maashoh   23  821-00-0265   \n",
       "1           1  0x1603   CUS_0xd40  February  Aaron Maashoh   23  821-00-0265   \n",
       "2           3  0x1605   CUS_0xd40     April  Aaron Maashoh   23  821-00-0265   \n",
       "3           4  0x1606   CUS_0xd40       May  Aaron Maashoh   23  821-00-0265   \n",
       "4           5  0x1607   CUS_0xd40      June  Aaron Maashoh   23  821-00-0265   \n",
       "\n",
       "  Occupation  Annual_Income  Monthly_Inhand_Salary  ...  Credit_Mix  \\\n",
       "0  Scientist       19114.12            1824.843333  ...         NaN   \n",
       "1  Scientist       19114.12                    NaN  ...        Good   \n",
       "2  Scientist       19114.12                    NaN  ...        Good   \n",
       "3  Scientist       19114.12            1824.843333  ...        Good   \n",
       "4  Scientist       19114.12                    NaN  ...        Good   \n",
       "\n",
       "   Outstanding_Debt  Credit_Utilization_Ratio  Credit_History_Age_inMonths  \\\n",
       "0            809.98                 26.822620                        265.0   \n",
       "1            809.98                 31.944960                          NaN   \n",
       "2            809.98                 31.377862                        268.0   \n",
       "3            809.98                 24.797347                        269.0   \n",
       "4            809.98                 27.262259                        270.0   \n",
       "\n",
       "  Payment_of_Min_Amount  Total_EMI_per_month  Amount_invested_monthly  \\\n",
       "0                    No            49.574949                80.415295   \n",
       "1                    No            49.574949               118.280222   \n",
       "2                    No            49.574949               199.458074   \n",
       "3                    No            49.574949                41.420153   \n",
       "4                    No            49.574949                62.430172   \n",
       "\n",
       "                  Payment_Behaviour  Monthly_Balance Credit_Score  \n",
       "0   High_spent_Small_value_payments       312.494089         Good  \n",
       "1    Low_spent_Large_value_payments       284.629163         Good  \n",
       "2    Low_spent_Small_value_payments       223.451310         Good  \n",
       "3  High_spent_Medium_value_payments       341.489231         Good  \n",
       "4                            !@9#%8       340.479212         Good  \n",
       "\n",
       "[5 rows x 29 columns]"
      ]
     },
     "execution_count": 275,
     "metadata": {},
     "output_type": "execute_result"
    }
   ],
   "source": [
    "df=pd.read_csv(r\"C:\\Users\\91900\\Downloads\\Credit_Sructured.csv\")\n",
    "df.head()"
   ]
  },
  {
   "cell_type": "code",
   "execution_count": 276,
   "metadata": {},
   "outputs": [
    {
     "data": {
      "text/html": [
       "<div>\n",
       "<style scoped>\n",
       "    .dataframe tbody tr th:only-of-type {\n",
       "        vertical-align: middle;\n",
       "    }\n",
       "\n",
       "    .dataframe tbody tr th {\n",
       "        vertical-align: top;\n",
       "    }\n",
       "\n",
       "    .dataframe thead th {\n",
       "        text-align: right;\n",
       "    }\n",
       "</style>\n",
       "<table border=\"1\" class=\"dataframe\">\n",
       "  <thead>\n",
       "    <tr style=\"text-align: right;\">\n",
       "      <th></th>\n",
       "      <th>Unnamed: 0</th>\n",
       "      <th>Age</th>\n",
       "      <th>Annual_Income</th>\n",
       "      <th>Monthly_Inhand_Salary</th>\n",
       "      <th>Num_Bank_Accounts</th>\n",
       "      <th>Num_Credit_Card</th>\n",
       "      <th>Interest_Rate</th>\n",
       "      <th>Num_of_Loan</th>\n",
       "      <th>Delay_from_due_date</th>\n",
       "      <th>Num_of_Delayed_Payment</th>\n",
       "      <th>Changed_Credit_Limit</th>\n",
       "      <th>Num_Credit_Inquiries</th>\n",
       "      <th>Outstanding_Debt</th>\n",
       "      <th>Credit_Utilization_Ratio</th>\n",
       "      <th>Credit_History_Age_inMonths</th>\n",
       "      <th>Total_EMI_per_month</th>\n",
       "      <th>Amount_invested_monthly</th>\n",
       "      <th>Monthly_Balance</th>\n",
       "    </tr>\n",
       "  </thead>\n",
       "  <tbody>\n",
       "    <tr>\n",
       "      <th>count</th>\n",
       "      <td>89375.000000</td>\n",
       "      <td>89375.000000</td>\n",
       "      <td>8.937500e+04</td>\n",
       "      <td>75935.000000</td>\n",
       "      <td>89375.000000</td>\n",
       "      <td>89375.000000</td>\n",
       "      <td>89375.000000</td>\n",
       "      <td>89375.000000</td>\n",
       "      <td>89375.000000</td>\n",
       "      <td>83068.000000</td>\n",
       "      <td>87504.000000</td>\n",
       "      <td>87612.000000</td>\n",
       "      <td>89375.00000</td>\n",
       "      <td>89375.000000</td>\n",
       "      <td>81268.000000</td>\n",
       "      <td>89375.000000</td>\n",
       "      <td>85397.000000</td>\n",
       "      <td>8.828700e+04</td>\n",
       "    </tr>\n",
       "    <tr>\n",
       "      <th>mean</th>\n",
       "      <td>49950.439485</td>\n",
       "      <td>33.320190</td>\n",
       "      <td>1.766142e+05</td>\n",
       "      <td>4198.002217</td>\n",
       "      <td>5.372095</td>\n",
       "      <td>5.533684</td>\n",
       "      <td>14.538987</td>\n",
       "      <td>7.321835</td>\n",
       "      <td>21.106663</td>\n",
       "      <td>14.164287</td>\n",
       "      <td>10.474424</td>\n",
       "      <td>5.789287</td>\n",
       "      <td>1426.44855</td>\n",
       "      <td>32.284359</td>\n",
       "      <td>221.188044</td>\n",
       "      <td>1401.582178</td>\n",
       "      <td>635.885065</td>\n",
       "      <td>3.398009e+22</td>\n",
       "    </tr>\n",
       "    <tr>\n",
       "      <th>std</th>\n",
       "      <td>28863.589707</td>\n",
       "      <td>10.790182</td>\n",
       "      <td>1.429674e+06</td>\n",
       "      <td>3185.096743</td>\n",
       "      <td>2.590760</td>\n",
       "      <td>2.063573</td>\n",
       "      <td>8.745885</td>\n",
       "      <td>18.868837</td>\n",
       "      <td>14.830438</td>\n",
       "      <td>24.300242</td>\n",
       "      <td>6.678936</td>\n",
       "      <td>3.878470</td>\n",
       "      <td>1156.40474</td>\n",
       "      <td>5.117280</td>\n",
       "      <td>99.844330</td>\n",
       "      <td>8291.680639</td>\n",
       "      <td>2039.884992</td>\n",
       "      <td>3.365363e+24</td>\n",
       "    </tr>\n",
       "    <tr>\n",
       "      <th>min</th>\n",
       "      <td>0.000000</td>\n",
       "      <td>14.000000</td>\n",
       "      <td>7.005930e+03</td>\n",
       "      <td>303.645417</td>\n",
       "      <td>0.000000</td>\n",
       "      <td>0.000000</td>\n",
       "      <td>1.000000</td>\n",
       "      <td>0.000000</td>\n",
       "      <td>0.000000</td>\n",
       "      <td>0.000000</td>\n",
       "      <td>0.000000</td>\n",
       "      <td>0.000000</td>\n",
       "      <td>0.23000</td>\n",
       "      <td>20.000000</td>\n",
       "      <td>1.000000</td>\n",
       "      <td>0.000000</td>\n",
       "      <td>0.000000</td>\n",
       "      <td>7.759665e-03</td>\n",
       "    </tr>\n",
       "    <tr>\n",
       "      <th>25%</th>\n",
       "      <td>24918.500000</td>\n",
       "      <td>24.000000</td>\n",
       "      <td>1.945549e+04</td>\n",
       "      <td>1626.047500</td>\n",
       "      <td>3.000000</td>\n",
       "      <td>4.000000</td>\n",
       "      <td>7.000000</td>\n",
       "      <td>2.000000</td>\n",
       "      <td>10.000000</td>\n",
       "      <td>9.000000</td>\n",
       "      <td>5.350000</td>\n",
       "      <td>3.000000</td>\n",
       "      <td>565.23000</td>\n",
       "      <td>28.053260</td>\n",
       "      <td>144.000000</td>\n",
       "      <td>30.403233</td>\n",
       "      <td>74.435932</td>\n",
       "      <td>2.702460e+02</td>\n",
       "    </tr>\n",
       "    <tr>\n",
       "      <th>50%</th>\n",
       "      <td>49899.000000</td>\n",
       "      <td>33.000000</td>\n",
       "      <td>3.757975e+04</td>\n",
       "      <td>3096.836667</td>\n",
       "      <td>6.000000</td>\n",
       "      <td>5.000000</td>\n",
       "      <td>13.000000</td>\n",
       "      <td>3.000000</td>\n",
       "      <td>18.000000</td>\n",
       "      <td>14.000000</td>\n",
       "      <td>9.410000</td>\n",
       "      <td>5.000000</td>\n",
       "      <td>1165.77000</td>\n",
       "      <td>32.297831</td>\n",
       "      <td>219.000000</td>\n",
       "      <td>69.201730</td>\n",
       "      <td>135.732211</td>\n",
       "      <td>3.368227e+02</td>\n",
       "    </tr>\n",
       "    <tr>\n",
       "      <th>75%</th>\n",
       "      <td>74968.500000</td>\n",
       "      <td>42.000000</td>\n",
       "      <td>7.284956e+04</td>\n",
       "      <td>5967.748333</td>\n",
       "      <td>7.000000</td>\n",
       "      <td>7.000000</td>\n",
       "      <td>20.000000</td>\n",
       "      <td>6.000000</td>\n",
       "      <td>28.000000</td>\n",
       "      <td>18.000000</td>\n",
       "      <td>14.890000</td>\n",
       "      <td>8.000000</td>\n",
       "      <td>1945.67000</td>\n",
       "      <td>36.500298</td>\n",
       "      <td>302.000000</td>\n",
       "      <td>161.340704</td>\n",
       "      <td>265.706212</td>\n",
       "      <td>4.701009e+02</td>\n",
       "    </tr>\n",
       "    <tr>\n",
       "      <th>max</th>\n",
       "      <td>99998.000000</td>\n",
       "      <td>100.000000</td>\n",
       "      <td>2.419806e+07</td>\n",
       "      <td>15204.633330</td>\n",
       "      <td>18.000000</td>\n",
       "      <td>10.000000</td>\n",
       "      <td>34.000000</td>\n",
       "      <td>100.000000</td>\n",
       "      <td>67.000000</td>\n",
       "      <td>996.000000</td>\n",
       "      <td>36.970000</td>\n",
       "      <td>46.000000</td>\n",
       "      <td>4998.07000</td>\n",
       "      <td>50.000000</td>\n",
       "      <td>404.000000</td>\n",
       "      <td>82331.000000</td>\n",
       "      <td>10000.000000</td>\n",
       "      <td>3.333333e+26</td>\n",
       "    </tr>\n",
       "  </tbody>\n",
       "</table>\n",
       "</div>"
      ],
      "text/plain": [
       "         Unnamed: 0           Age  Annual_Income  Monthly_Inhand_Salary  \\\n",
       "count  89375.000000  89375.000000   8.937500e+04           75935.000000   \n",
       "mean   49950.439485     33.320190   1.766142e+05            4198.002217   \n",
       "std    28863.589707     10.790182   1.429674e+06            3185.096743   \n",
       "min        0.000000     14.000000   7.005930e+03             303.645417   \n",
       "25%    24918.500000     24.000000   1.945549e+04            1626.047500   \n",
       "50%    49899.000000     33.000000   3.757975e+04            3096.836667   \n",
       "75%    74968.500000     42.000000   7.284956e+04            5967.748333   \n",
       "max    99998.000000    100.000000   2.419806e+07           15204.633330   \n",
       "\n",
       "       Num_Bank_Accounts  Num_Credit_Card  Interest_Rate   Num_of_Loan  \\\n",
       "count       89375.000000     89375.000000   89375.000000  89375.000000   \n",
       "mean            5.372095         5.533684      14.538987      7.321835   \n",
       "std             2.590760         2.063573       8.745885     18.868837   \n",
       "min             0.000000         0.000000       1.000000      0.000000   \n",
       "25%             3.000000         4.000000       7.000000      2.000000   \n",
       "50%             6.000000         5.000000      13.000000      3.000000   \n",
       "75%             7.000000         7.000000      20.000000      6.000000   \n",
       "max            18.000000        10.000000      34.000000    100.000000   \n",
       "\n",
       "       Delay_from_due_date  Num_of_Delayed_Payment  Changed_Credit_Limit  \\\n",
       "count         89375.000000            83068.000000          87504.000000   \n",
       "mean             21.106663               14.164287             10.474424   \n",
       "std              14.830438               24.300242              6.678936   \n",
       "min               0.000000                0.000000              0.000000   \n",
       "25%              10.000000                9.000000              5.350000   \n",
       "50%              18.000000               14.000000              9.410000   \n",
       "75%              28.000000               18.000000             14.890000   \n",
       "max              67.000000              996.000000             36.970000   \n",
       "\n",
       "       Num_Credit_Inquiries  Outstanding_Debt  Credit_Utilization_Ratio  \\\n",
       "count          87612.000000       89375.00000              89375.000000   \n",
       "mean               5.789287        1426.44855                 32.284359   \n",
       "std                3.878470        1156.40474                  5.117280   \n",
       "min                0.000000           0.23000                 20.000000   \n",
       "25%                3.000000         565.23000                 28.053260   \n",
       "50%                5.000000        1165.77000                 32.297831   \n",
       "75%                8.000000        1945.67000                 36.500298   \n",
       "max               46.000000        4998.07000                 50.000000   \n",
       "\n",
       "       Credit_History_Age_inMonths  Total_EMI_per_month  \\\n",
       "count                 81268.000000         89375.000000   \n",
       "mean                    221.188044          1401.582178   \n",
       "std                      99.844330          8291.680639   \n",
       "min                       1.000000             0.000000   \n",
       "25%                     144.000000            30.403233   \n",
       "50%                     219.000000            69.201730   \n",
       "75%                     302.000000           161.340704   \n",
       "max                     404.000000         82331.000000   \n",
       "\n",
       "       Amount_invested_monthly  Monthly_Balance  \n",
       "count             85397.000000     8.828700e+04  \n",
       "mean                635.885065     3.398009e+22  \n",
       "std                2039.884992     3.365363e+24  \n",
       "min                   0.000000     7.759665e-03  \n",
       "25%                  74.435932     2.702460e+02  \n",
       "50%                 135.732211     3.368227e+02  \n",
       "75%                 265.706212     4.701009e+02  \n",
       "max               10000.000000     3.333333e+26  "
      ]
     },
     "execution_count": 276,
     "metadata": {},
     "output_type": "execute_result"
    }
   ],
   "source": [
    "df.describe()"
   ]
  },
  {
   "cell_type": "code",
   "execution_count": 277,
   "metadata": {},
   "outputs": [
    {
     "name": "stdout",
     "output_type": "stream",
     "text": [
      "<class 'pandas.core.frame.DataFrame'>\n",
      "RangeIndex: 89375 entries, 0 to 89374\n",
      "Data columns (total 29 columns):\n",
      " #   Column                       Non-Null Count  Dtype  \n",
      "---  ------                       --------------  -----  \n",
      " 0   Unnamed: 0                   89375 non-null  int64  \n",
      " 1   ID                           89375 non-null  object \n",
      " 2   Customer_ID                  89375 non-null  object \n",
      " 3   Month                        89375 non-null  object \n",
      " 4   Name                         80435 non-null  object \n",
      " 5   Age                          89375 non-null  int64  \n",
      " 6   SSN                          89375 non-null  object \n",
      " 7   Occupation                   89375 non-null  object \n",
      " 8   Annual_Income                89375 non-null  float64\n",
      " 9   Monthly_Inhand_Salary        75935 non-null  float64\n",
      " 10  Num_Bank_Accounts            89375 non-null  int64  \n",
      " 11  Num_Credit_Card              89375 non-null  int64  \n",
      " 12  Interest_Rate                89375 non-null  int64  \n",
      " 13  Num_of_Loan                  89375 non-null  int64  \n",
      " 14  Type_of_Loan                 79211 non-null  object \n",
      " 15  Delay_from_due_date          89375 non-null  int64  \n",
      " 16  Num_of_Delayed_Payment       83068 non-null  float64\n",
      " 17  Changed_Credit_Limit         87504 non-null  float64\n",
      " 18  Num_Credit_Inquiries         87612 non-null  float64\n",
      " 19  Credit_Mix                   71326 non-null  object \n",
      " 20  Outstanding_Debt             89375 non-null  float64\n",
      " 21  Credit_Utilization_Ratio     89375 non-null  float64\n",
      " 22  Credit_History_Age_inMonths  81268 non-null  float64\n",
      " 23  Payment_of_Min_Amount        89375 non-null  object \n",
      " 24  Total_EMI_per_month          89375 non-null  float64\n",
      " 25  Amount_invested_monthly      85397 non-null  float64\n",
      " 26  Payment_Behaviour            89375 non-null  object \n",
      " 27  Monthly_Balance              88287 non-null  float64\n",
      " 28  Credit_Score                 89375 non-null  object \n",
      "dtypes: float64(11), int64(7), object(11)\n",
      "memory usage: 19.8+ MB\n"
     ]
    }
   ],
   "source": [
    "df.info()"
   ]
  },
  {
   "cell_type": "code",
   "execution_count": 278,
   "metadata": {},
   "outputs": [],
   "source": [
    "#Missing values"
   ]
  },
  {
   "cell_type": "code",
   "execution_count": 279,
   "metadata": {},
   "outputs": [],
   "source": [
    "x=df['Monthly_Inhand_Salary'].mean()\n",
    "df['Monthly_Inhand_Salary'].fillna(x,inplace=True)"
   ]
  },
  {
   "cell_type": "code",
   "execution_count": 280,
   "metadata": {},
   "outputs": [],
   "source": [
    "y=df['Type_of_Loan'].mode()[0]\n",
    "df['Type_of_Loan'].fillna(y,inplace=True)"
   ]
  },
  {
   "cell_type": "code",
   "execution_count": 281,
   "metadata": {},
   "outputs": [],
   "source": [
    "df.dropna(subset=['Num_of_Delayed_Payment'], inplace = True)"
   ]
  },
  {
   "cell_type": "code",
   "execution_count": 282,
   "metadata": {},
   "outputs": [],
   "source": [
    "z=df['Num_Credit_Inquiries'].mode()[0]\n",
    "df['Num_Credit_Inquiries'].fillna(z,inplace=True)"
   ]
  },
  {
   "cell_type": "code",
   "execution_count": 283,
   "metadata": {},
   "outputs": [],
   "source": [
    "x=df['Credit_History_Age_inMonths'].mode()[0]\n",
    "df['Credit_History_Age_inMonths'].fillna(x,inplace=True)"
   ]
  },
  {
   "cell_type": "code",
   "execution_count": 284,
   "metadata": {},
   "outputs": [],
   "source": [
    "x=df['Amount_invested_monthly'].mean()\n",
    "df['Amount_invested_monthly'].fillna(x,inplace=True)"
   ]
  },
  {
   "cell_type": "code",
   "execution_count": 285,
   "metadata": {},
   "outputs": [],
   "source": [
    "y=df['Monthly_Balance'].mean()\n",
    "df['Monthly_Balance'].fillna(y,inplace=True)"
   ]
  },
  {
   "cell_type": "code",
   "execution_count": 286,
   "metadata": {},
   "outputs": [],
   "source": [
    "y=df['Changed_Credit_Limit'].mean()\n",
    "df['Changed_Credit_Limit'].fillna(y,inplace=True)"
   ]
  },
  {
   "cell_type": "code",
   "execution_count": 287,
   "metadata": {},
   "outputs": [],
   "source": [
    "x=df['Credit_Mix'].mode()[0]\n",
    "df['Credit_Mix'].fillna(x,inplace=True)"
   ]
  },
  {
   "cell_type": "code",
   "execution_count": 288,
   "metadata": {},
   "outputs": [
    {
     "data": {
      "text/plain": [
       "Unnamed: 0                        0\n",
       "ID                                0\n",
       "Customer_ID                       0\n",
       "Month                             0\n",
       "Name                           8314\n",
       "Age                               0\n",
       "SSN                               0\n",
       "Occupation                        0\n",
       "Annual_Income                     0\n",
       "Monthly_Inhand_Salary             0\n",
       "Num_Bank_Accounts                 0\n",
       "Num_Credit_Card                   0\n",
       "Interest_Rate                     0\n",
       "Num_of_Loan                       0\n",
       "Type_of_Loan                      0\n",
       "Delay_from_due_date               0\n",
       "Num_of_Delayed_Payment            0\n",
       "Changed_Credit_Limit              0\n",
       "Num_Credit_Inquiries              0\n",
       "Credit_Mix                        0\n",
       "Outstanding_Debt                  0\n",
       "Credit_Utilization_Ratio          0\n",
       "Credit_History_Age_inMonths       0\n",
       "Payment_of_Min_Amount             0\n",
       "Total_EMI_per_month               0\n",
       "Amount_invested_monthly           0\n",
       "Payment_Behaviour                 0\n",
       "Monthly_Balance                   0\n",
       "Credit_Score                      0\n",
       "dtype: int64"
      ]
     },
     "execution_count": 288,
     "metadata": {},
     "output_type": "execute_result"
    }
   ],
   "source": [
    "df.isnull().sum()"
   ]
  },
  {
   "cell_type": "code",
   "execution_count": 289,
   "metadata": {},
   "outputs": [],
   "source": [
    "#Treating Outliers"
   ]
  },
  {
   "cell_type": "code",
   "execution_count": 290,
   "metadata": {},
   "outputs": [],
   "source": [
    "percentile=df['Age'].quantile([0.0,0.25,0.50,0.75,0.95,0.99,1.0])\n",
    "percentile[1.0]=percentile[0.99]\n",
    "df.loc[df['Age']>percentile[0.99],'Age']=percentile[0.99]"
   ]
  },
  {
   "cell_type": "code",
   "execution_count": 291,
   "metadata": {},
   "outputs": [],
   "source": [
    "percentile=df['Annual_Income'].quantile([0.0,0.25,0.50,0.75,0.95,0.99,1.0])\n",
    "percentile[1.0]=percentile[0.99]\n",
    "df.loc[df['Annual_Income']>percentile[0.99],'Annual_Income']=percentile[0.99]"
   ]
  },
  {
   "cell_type": "code",
   "execution_count": 292,
   "metadata": {},
   "outputs": [],
   "source": [
    "percentile=df['Num_of_Loan'].quantile([0.0,0.25,0.50,0.75,0.95,0.99,1.0])\n",
    "percentile[0.99]=percentile[0.95]\n",
    "df.loc[df['Num_of_Loan']>percentile[0.95],'Num_of_Loan']=percentile[0.95]"
   ]
  },
  {
   "cell_type": "code",
   "execution_count": 293,
   "metadata": {},
   "outputs": [],
   "source": [
    "percentile=df['Num_of_Delayed_Payment'].quantile([0.0,0.25,0.50,0.75,0.95,0.99,1.0])\n",
    "percentile[1.00]=percentile[0.99]\n",
    "df.loc[df['Num_of_Delayed_Payment']>percentile[0.99],'Num_of_Delayed_Payment']=percentile[0.99]"
   ]
  },
  {
   "cell_type": "code",
   "execution_count": 294,
   "metadata": {},
   "outputs": [],
   "source": [
    "percentile=df['Num_Credit_Inquiries'].quantile([0.0,0.25,0.50,0.75,0.95,0.99,1.0])\n",
    "percentile[1.00]=percentile[0.99]\n",
    "df.loc[df['Num_Credit_Inquiries']>percentile[0.99],'Num_Credit_Inquiries']=percentile[0.99]"
   ]
  },
  {
   "cell_type": "code",
   "execution_count": 295,
   "metadata": {},
   "outputs": [],
   "source": [
    "percentile=df['Total_EMI_per_month'].quantile([0.0,0.25,0.50,0.75,0.95,0.99,1.0])\n",
    "percentile[1.00]=percentile[0.95]\n",
    "df.loc[df['Total_EMI_per_month']>percentile[0.95],'Total_EMI_per_month']=percentile[0.95]"
   ]
  },
  {
   "cell_type": "code",
   "execution_count": 296,
   "metadata": {},
   "outputs": [],
   "source": [
    "percentile=df['Amount_invested_monthly'].quantile([0.0,0.25,0.50,0.75,0.95,0.99,1.0])\n",
    "percentile[1.00]=percentile[0.95]\n",
    "df.loc[df['Amount_invested_monthly']>percentile[0.95],'Amount_invested_monthly']=percentile[0.95]"
   ]
  },
  {
   "cell_type": "code",
   "execution_count": 297,
   "metadata": {},
   "outputs": [
    {
     "data": {
      "text/plain": [
       "0.00    7.759665e-03\n",
       "0.25    2.710055e+02\n",
       "0.50    3.387860e+02\n",
       "0.75    4.782300e+02\n",
       "0.95    9.188042e+02\n",
       "0.99    3.655372e+22\n",
       "1.00    3.333333e+26\n",
       "Name: Monthly_Balance, dtype: float64"
      ]
     },
     "execution_count": 297,
     "metadata": {},
     "output_type": "execute_result"
    }
   ],
   "source": [
    "percentile=df['Monthly_Balance'].quantile([0.0,0.25,0.50,0.75,0.95,0.99,1.0])\n",
    "percentile"
   ]
  },
  {
   "cell_type": "code",
   "execution_count": 298,
   "metadata": {},
   "outputs": [],
   "source": [
    "percentile[1.00]=percentile[0.95]\n",
    "df.loc[df['Monthly_Balance']>percentile[0.95],'Monthly_Balance']=percentile[0.95]"
   ]
  },
  {
   "cell_type": "code",
   "execution_count": 299,
   "metadata": {},
   "outputs": [],
   "source": [
    "#Squareroot Transformation"
   ]
  },
  {
   "cell_type": "code",
   "execution_count": 300,
   "metadata": {},
   "outputs": [
    {
     "data": {
      "text/plain": [
       "\"''\\n'Age', 'Annual_Income', 'Monthly_Inhand_Salary', 'Num_Bank_Accounts', 'Num_Credit_Card', 'Interest_Rate', 'Num_of_Loan', 'Delay_from_due_date', \\n                                  'Num_of_Delayed_Payment', 'Changed_Credit_Limit', 'Num_Credit_Inquiries', 'Outstanding_Debt',\\n                                  'Credit_Utilization_Ratio', 'Total_EMI_per_month', 'Amount_invested_monthly', 'Monthly_Balance'   \""
      ]
     },
     "execution_count": 300,
     "metadata": {},
     "output_type": "execute_result"
    }
   ],
   "source": [
    "'''''\n",
    "'Age', 'Annual_Income', 'Monthly_Inhand_Salary', 'Num_Bank_Accounts', 'Num_Credit_Card', 'Interest_Rate', 'Num_of_Loan', 'Delay_from_due_date', \n",
    "                                  'Num_of_Delayed_Payment', 'Changed_Credit_Limit', 'Num_Credit_Inquiries', 'Outstanding_Debt',\n",
    "                                  'Credit_Utilization_Ratio', 'Total_EMI_per_month', 'Amount_invested_monthly', 'Monthly_Balance'   '''"
   ]
  },
  {
   "cell_type": "code",
   "execution_count": 301,
   "metadata": {},
   "outputs": [
    {
     "name": "stdout",
     "output_type": "stream",
     "text": [
      "1.1445992351779912\n"
     ]
    }
   ],
   "source": [
    "from scipy.stats import skew\n",
    "skewness=skew(df['Monthly_Balance'])\n",
    "print(skewness)"
   ]
  },
  {
   "cell_type": "code",
   "execution_count": 302,
   "metadata": {},
   "outputs": [
    {
     "name": "stdout",
     "output_type": "stream",
     "text": [
      "0.5830756396979558\n"
     ]
    }
   ],
   "source": [
    "df['Annual_Income']=np.sqrt(df['Annual_Income'])\n",
    "skewness=skew(df['Annual_Income'])\n",
    "print(skewness)"
   ]
  },
  {
   "cell_type": "code",
   "execution_count": 303,
   "metadata": {},
   "outputs": [
    {
     "name": "stdout",
     "output_type": "stream",
     "text": [
      "0.4732338607011785\n"
     ]
    }
   ],
   "source": [
    "df['Monthly_Inhand_Salary']=np.sqrt(df['Monthly_Inhand_Salary'])\n",
    "skewness=skew(df['Monthly_Inhand_Salary'])\n",
    "print(skewness)"
   ]
  },
  {
   "cell_type": "code",
   "execution_count": 304,
   "metadata": {},
   "outputs": [
    {
     "name": "stdout",
     "output_type": "stream",
     "text": [
      "-0.3517991361678269\n"
     ]
    }
   ],
   "source": [
    "df['Num_Credit_Card']=np.sqrt(df['Num_Credit_Card'])\n",
    "skewness=skew(df['Num_Credit_Card'])\n",
    "print(skewness)"
   ]
  },
  {
   "cell_type": "code",
   "execution_count": 305,
   "metadata": {},
   "outputs": [
    {
     "name": "stdout",
     "output_type": "stream",
     "text": [
      "-0.10344673210591038\n"
     ]
    }
   ],
   "source": [
    "df['Interest_Rate']=np.sqrt(df['Interest_Rate'])\n",
    "skewness=skew(df['Interest_Rate'])\n",
    "print(skewness)"
   ]
  },
  {
   "cell_type": "code",
   "execution_count": 306,
   "metadata": {},
   "outputs": [
    {
     "name": "stdout",
     "output_type": "stream",
     "text": [
      "0.10015743698479868\n"
     ]
    }
   ],
   "source": [
    "df['Delay_from_due_date']=np.sqrt(df['Delay_from_due_date'])\n",
    "skewness=skew(df['Delay_from_due_date'])\n",
    "print(skewness)"
   ]
  },
  {
   "cell_type": "code",
   "execution_count": 307,
   "metadata": {},
   "outputs": [
    {
     "name": "stdout",
     "output_type": "stream",
     "text": [
      "-0.0731251754890903\n"
     ]
    }
   ],
   "source": [
    "df['Changed_Credit_Limit']=np.sqrt(df['Changed_Credit_Limit'])\n",
    "skewness=skew(df['Changed_Credit_Limit'])\n",
    "print(skewness)"
   ]
  },
  {
   "cell_type": "code",
   "execution_count": 308,
   "metadata": {},
   "outputs": [
    {
     "name": "stdout",
     "output_type": "stream",
     "text": [
      "0.3186280876563508\n"
     ]
    }
   ],
   "source": [
    "df['Outstanding_Debt']=np.sqrt(df['Outstanding_Debt'])\n",
    "skewness=skew(df['Outstanding_Debt'])\n",
    "print(skewness)"
   ]
  },
  {
   "cell_type": "code",
   "execution_count": 309,
   "metadata": {},
   "outputs": [
    {
     "name": "stdout",
     "output_type": "stream",
     "text": [
      "1.0349867775828905\n"
     ]
    }
   ],
   "source": [
    "df['Amount_invested_monthly']=np.sqrt(df['Amount_invested_monthly'])\n",
    "skewness=skew(df['Amount_invested_monthly'])\n",
    "print(skewness)"
   ]
  },
  {
   "cell_type": "code",
   "execution_count": 310,
   "metadata": {},
   "outputs": [
    {
     "name": "stdout",
     "output_type": "stream",
     "text": [
      "0.49141150048425847\n"
     ]
    }
   ],
   "source": [
    "df['Monthly_Balance']=np.sqrt(df['Monthly_Balance'])\n",
    "skewness=skew(df['Monthly_Balance'])\n",
    "print(skewness)"
   ]
  },
  {
   "cell_type": "code",
   "execution_count": 311,
   "metadata": {},
   "outputs": [],
   "source": [
    "#EDA"
   ]
  },
  {
   "cell_type": "code",
   "execution_count": 312,
   "metadata": {},
   "outputs": [
    {
     "data": {
      "text/plain": [
       "Index(['Unnamed: 0', 'ID', 'Customer_ID', 'Month', 'Name', 'Age', 'SSN',\n",
       "       'Occupation', 'Annual_Income', 'Monthly_Inhand_Salary',\n",
       "       'Num_Bank_Accounts', 'Num_Credit_Card', 'Interest_Rate', 'Num_of_Loan',\n",
       "       'Type_of_Loan', 'Delay_from_due_date', 'Num_of_Delayed_Payment',\n",
       "       'Changed_Credit_Limit', 'Num_Credit_Inquiries', 'Credit_Mix',\n",
       "       'Outstanding_Debt', 'Credit_Utilization_Ratio',\n",
       "       'Credit_History_Age_inMonths', 'Payment_of_Min_Amount',\n",
       "       'Total_EMI_per_month', 'Amount_invested_monthly', 'Payment_Behaviour',\n",
       "       'Monthly_Balance', 'Credit_Score'],\n",
       "      dtype='object')"
      ]
     },
     "execution_count": 312,
     "metadata": {},
     "output_type": "execute_result"
    }
   ],
   "source": [
    "df.columns"
   ]
  },
  {
   "cell_type": "code",
   "execution_count": 313,
   "metadata": {},
   "outputs": [
    {
     "name": "stderr",
     "output_type": "stream",
     "text": [
      "C:\\Users\\91900\\AppData\\Local\\Temp/ipykernel_9864/2886370110.py:4: UserWarning: To output multiple subplots, the figure containing the passed axes is being cleared\n",
      "  df.hist(ax = ax1)\n"
     ]
    },
    {
     "data": {
      "image/png": "[encoded data removed]",
      "text/plain": [
       "<Figure size 1440x720 with 20 Axes>"
      ]
     },
     "metadata": {
      "needs_background": "light"
     },
     "output_type": "display_data"
    }
   ],
   "source": [
    "#Univarient Analysis\n",
    "fig1 = plt.figure(figsize=(20,10))\n",
    "ax1 = fig1.gca()\n",
    "df.hist(ax = ax1)\n",
    "plt.show()"
   ]
  },
  {
   "cell_type": "code",
   "execution_count": 314,
   "metadata": {},
   "outputs": [
    {
     "name": "stderr",
     "output_type": "stream",
     "text": [
      "c:\\Users\\91900\\anaconda3\\lib\\site-packages\\seaborn\\distributions.py:2619: FutureWarning: `distplot` is a deprecated function and will be removed in a future version. Please adapt your code to use either `displot` (a figure-level function with similar flexibility) or `histplot` (an axes-level function for histograms).\n",
      "  warnings.warn(msg, FutureWarning)\n"
     ]
    },
    {
     "data": {
      "text/plain": [
       "<AxesSubplot:xlabel='Delay_from_due_date', ylabel='Density'>"
      ]
     },
     "execution_count": 314,
     "metadata": {},
     "output_type": "execute_result"
    },
    {
     "data": {
      "image/png": "[encoded data removed]",
      "text/plain": [
       "<Figure size 432x288 with 1 Axes>"
      ]
     },
     "metadata": {
      "needs_background": "light"
     },
     "output_type": "display_data"
    }
   ],
   "source": [
    "sns.distplot(df.Delay_from_due_date) "
   ]
  },
  {
   "cell_type": "code",
   "execution_count": 315,
   "metadata": {},
   "outputs": [
    {
     "name": "stderr",
     "output_type": "stream",
     "text": [
      "c:\\Users\\91900\\anaconda3\\lib\\site-packages\\seaborn\\distributions.py:2619: FutureWarning: `distplot` is a deprecated function and will be removed in a future version. Please adapt your code to use either `displot` (a figure-level function with similar flexibility) or `histplot` (an axes-level function for histograms).\n",
      "  warnings.warn(msg, FutureWarning)\n"
     ]
    },
    {
     "data": {
      "text/plain": [
       "<AxesSubplot:xlabel='Num_of_Delayed_Payment', ylabel='Density'>"
      ]
     },
     "execution_count": 315,
     "metadata": {},
     "output_type": "execute_result"
    },
    {
     "data": {
      "image/png": "[encoded data removed]",
      "text/plain": [
       "<Figure size 432x288 with 1 Axes>"
      ]
     },
     "metadata": {
      "needs_background": "light"
     },
     "output_type": "display_data"
    }
   ],
   "source": [
    "sns.distplot(df.Num_of_Delayed_Payment) "
   ]
  },
  {
   "cell_type": "code",
   "execution_count": 316,
   "metadata": {},
   "outputs": [
    {
     "name": "stderr",
     "output_type": "stream",
     "text": [
      "c:\\Users\\91900\\anaconda3\\lib\\site-packages\\seaborn\\distributions.py:2619: FutureWarning: `distplot` is a deprecated function and will be removed in a future version. Please adapt your code to use either `displot` (a figure-level function with similar flexibility) or `histplot` (an axes-level function for histograms).\n",
      "  warnings.warn(msg, FutureWarning)\n"
     ]
    },
    {
     "data": {
      "text/plain": [
       "<AxesSubplot:xlabel='Amount_invested_monthly', ylabel='Density'>"
      ]
     },
     "execution_count": 316,
     "metadata": {},
     "output_type": "execute_result"
    },
    {
     "data": {
      "image/png": "[encoded data removed]",
      "text/plain": [
       "<Figure size 432x288 with 1 Axes>"
      ]
     },
     "metadata": {
      "needs_background": "light"
     },
     "output_type": "display_data"
    }
   ],
   "source": [
    "sns.distplot(df.Amount_invested_monthly) "
   ]
  },
  {
   "cell_type": "code",
   "execution_count": 318,
   "metadata": {},
   "outputs": [],
   "source": [
    "#Dropping Unwanted Columns\n",
    "df=df.drop(['Unnamed: 0','ID','Customer_ID','Name','SSN'],axis=1)"
   ]
  },
  {
   "cell_type": "code",
   "execution_count": 319,
   "metadata": {},
   "outputs": [
    {
     "name": "stdout",
     "output_type": "stream",
     "text": [
      "<class 'pandas.core.frame.DataFrame'>\n",
      "Int64Index: 83068 entries, 0 to 89374\n",
      "Data columns (total 24 columns):\n",
      " #   Column                       Non-Null Count  Dtype  \n",
      "---  ------                       --------------  -----  \n",
      " 0   Month                        83068 non-null  object \n",
      " 1   Age                          83068 non-null  int64  \n",
      " 2   Occupation                   83068 non-null  object \n",
      " 3   Annual_Income                83068 non-null  float64\n",
      " 4   Monthly_Inhand_Salary        83068 non-null  float64\n",
      " 5   Num_Bank_Accounts            83068 non-null  int64  \n",
      " 6   Num_Credit_Card              83068 non-null  float64\n",
      " 7   Interest_Rate                83068 non-null  float64\n",
      " 8   Num_of_Loan                  83068 non-null  int64  \n",
      " 9   Type_of_Loan                 83068 non-null  object \n",
      " 10  Delay_from_due_date          83068 non-null  float64\n",
      " 11  Num_of_Delayed_Payment       83068 non-null  float64\n",
      " 12  Changed_Credit_Limit         83068 non-null  float64\n",
      " 13  Num_Credit_Inquiries         83068 non-null  float64\n",
      " 14  Credit_Mix                   83068 non-null  object \n",
      " 15  Outstanding_Debt             83068 non-null  float64\n",
      " 16  Credit_Utilization_Ratio     83068 non-null  float64\n",
      " 17  Credit_History_Age_inMonths  83068 non-null  float64\n",
      " 18  Payment_of_Min_Amount        83068 non-null  object \n",
      " 19  Total_EMI_per_month          83068 non-null  float64\n",
      " 20  Amount_invested_monthly      83068 non-null  float64\n",
      " 21  Payment_Behaviour            83068 non-null  object \n",
      " 22  Monthly_Balance              83068 non-null  float64\n",
      " 23  Credit_Score                 83068 non-null  object \n",
      "dtypes: float64(14), int64(3), object(7)\n",
      "memory usage: 15.8+ MB\n"
     ]
    }
   ],
   "source": [
    "df.info()"
   ]
  },
  {
   "cell_type": "code",
   "execution_count": 320,
   "metadata": {},
   "outputs": [],
   "source": [
    "#Going to model"
   ]
  },
  {
   "cell_type": "code",
   "execution_count": 321,
   "metadata": {},
   "outputs": [],
   "source": [
    "x=df.iloc[:,:-1]\n",
    "y=df['Credit_Score']"
   ]
  },
  {
   "cell_type": "code",
   "execution_count": 322,
   "metadata": {},
   "outputs": [
    {
     "name": "stdout",
     "output_type": "stream",
     "text": [
      "Standard    44206\n",
      "Poor        24127\n",
      "Good        14735\n",
      "Name: Credit_Score, dtype: int64\n"
     ]
    }
   ],
   "source": [
    "print(y.value_counts())"
   ]
  },
  {
   "cell_type": "code",
   "execution_count": 323,
   "metadata": {},
   "outputs": [],
   "source": [
    "from sklearn.preprocessing import LabelEncoder\n",
    "label_encoder = LabelEncoder()\n",
    "y= label_encoder.fit_transform(y)"
   ]
  },
  {
   "cell_type": "code",
   "execution_count": 324,
   "metadata": {},
   "outputs": [
    {
     "data": {
      "text/html": [
       "<div>\n",
       "<style scoped>\n",
       "    .dataframe tbody tr th:only-of-type {\n",
       "        vertical-align: middle;\n",
       "    }\n",
       "\n",
       "    .dataframe tbody tr th {\n",
       "        vertical-align: top;\n",
       "    }\n",
       "\n",
       "    .dataframe thead th {\n",
       "        text-align: right;\n",
       "    }\n",
       "</style>\n",
       "<table border=\"1\" class=\"dataframe\">\n",
       "  <thead>\n",
       "    <tr style=\"text-align: right;\">\n",
       "      <th></th>\n",
       "      <th>Month</th>\n",
       "      <th>Occupation</th>\n",
       "      <th>Type_of_Loan</th>\n",
       "      <th>Credit_Mix</th>\n",
       "      <th>Payment_of_Min_Amount</th>\n",
       "      <th>Credit_History_Age_inMonths</th>\n",
       "      <th>Payment_Behaviour</th>\n",
       "      <th>Age</th>\n",
       "      <th>Annual_Income</th>\n",
       "      <th>Monthly_Inhand_Salary</th>\n",
       "      <th>...</th>\n",
       "      <th>Num_of_Loan</th>\n",
       "      <th>Delay_from_due_date</th>\n",
       "      <th>Num_of_Delayed_Payment</th>\n",
       "      <th>Changed_Credit_Limit</th>\n",
       "      <th>Num_Credit_Inquiries</th>\n",
       "      <th>Outstanding_Debt</th>\n",
       "      <th>Credit_Utilization_Ratio</th>\n",
       "      <th>Total_EMI_per_month</th>\n",
       "      <th>Amount_invested_monthly</th>\n",
       "      <th>Monthly_Balance</th>\n",
       "    </tr>\n",
       "  </thead>\n",
       "  <tbody>\n",
       "    <tr>\n",
       "      <th>0</th>\n",
       "      <td>1.397367</td>\n",
       "      <td>1.344156</td>\n",
       "      <td>1.180605</td>\n",
       "      <td>1.557625</td>\n",
       "      <td>1.101557</td>\n",
       "      <td>265.0</td>\n",
       "      <td>1.358665</td>\n",
       "      <td>-0.954999</td>\n",
       "      <td>-0.877537</td>\n",
       "      <td>-0.842774</td>\n",
       "      <td>...</td>\n",
       "      <td>0.095782</td>\n",
       "      <td>-1.554334</td>\n",
       "      <td>-1.014504</td>\n",
       "      <td>0.282597</td>\n",
       "      <td>-0.458657</td>\n",
       "      <td>-0.405351</td>\n",
       "      <td>-1.069298</td>\n",
       "      <td>-0.541944</td>\n",
       "      <td>-0.700492</td>\n",
       "      <td>-0.376139</td>\n",
       "    </tr>\n",
       "    <tr>\n",
       "      <th>1</th>\n",
       "      <td>1.332106</td>\n",
       "      <td>1.344156</td>\n",
       "      <td>1.180605</td>\n",
       "      <td>0.870454</td>\n",
       "      <td>1.101557</td>\n",
       "      <td>268.0</td>\n",
       "      <td>1.384623</td>\n",
       "      <td>-0.954999</td>\n",
       "      <td>-0.877537</td>\n",
       "      <td>0.172204</td>\n",
       "      <td>...</td>\n",
       "      <td>0.095782</td>\n",
       "      <td>-1.247952</td>\n",
       "      <td>-1.494680</td>\n",
       "      <td>-0.515626</td>\n",
       "      <td>-0.458657</td>\n",
       "      <td>-0.405351</td>\n",
       "      <td>-0.179057</td>\n",
       "      <td>-0.541944</td>\n",
       "      <td>0.007920</td>\n",
       "      <td>-0.942993</td>\n",
       "    </tr>\n",
       "    <tr>\n",
       "      <th>2</th>\n",
       "      <td>1.328370</td>\n",
       "      <td>1.344156</td>\n",
       "      <td>1.180605</td>\n",
       "      <td>0.870454</td>\n",
       "      <td>1.101557</td>\n",
       "      <td>270.0</td>\n",
       "      <td>1.346313</td>\n",
       "      <td>-0.954999</td>\n",
       "      <td>-0.877537</td>\n",
       "      <td>0.172204</td>\n",
       "      <td>...</td>\n",
       "      <td>0.095782</td>\n",
       "      <td>-0.887868</td>\n",
       "      <td>-1.494680</td>\n",
       "      <td>-0.009726</td>\n",
       "      <td>-0.458657</td>\n",
       "      <td>-0.405351</td>\n",
       "      <td>-0.983379</td>\n",
       "      <td>-0.541944</td>\n",
       "      <td>-0.846995</td>\n",
       "      <td>-0.215261</td>\n",
       "    </tr>\n",
       "    <tr>\n",
       "      <th>3</th>\n",
       "      <td>1.324280</td>\n",
       "      <td>1.344156</td>\n",
       "      <td>1.180605</td>\n",
       "      <td>0.870454</td>\n",
       "      <td>1.101557</td>\n",
       "      <td>271.0</td>\n",
       "      <td>1.384623</td>\n",
       "      <td>-0.954999</td>\n",
       "      <td>-0.877537</td>\n",
       "      <td>-0.842774</td>\n",
       "      <td>...</td>\n",
       "      <td>0.095782</td>\n",
       "      <td>-1.554334</td>\n",
       "      <td>-0.854446</td>\n",
       "      <td>0.282597</td>\n",
       "      <td>-0.458657</td>\n",
       "      <td>-0.405351</td>\n",
       "      <td>-1.906731</td>\n",
       "      <td>-0.541944</td>\n",
       "      <td>-0.097666</td>\n",
       "      <td>-0.799619</td>\n",
       "    </tr>\n",
       "    <tr>\n",
       "      <th>4</th>\n",
       "      <td>1.332950</td>\n",
       "      <td>1.344156</td>\n",
       "      <td>1.180605</td>\n",
       "      <td>0.870454</td>\n",
       "      <td>1.101557</td>\n",
       "      <td>189.0</td>\n",
       "      <td>1.344088</td>\n",
       "      <td>-0.954999</td>\n",
       "      <td>-0.877537</td>\n",
       "      <td>-0.842774</td>\n",
       "      <td>...</td>\n",
       "      <td>0.095782</td>\n",
       "      <td>-1.554334</td>\n",
       "      <td>-1.174563</td>\n",
       "      <td>0.282597</td>\n",
       "      <td>-0.458657</td>\n",
       "      <td>-0.405351</td>\n",
       "      <td>-1.633868</td>\n",
       "      <td>-0.541944</td>\n",
       "      <td>-1.248614</td>\n",
       "      <td>-0.117208</td>\n",
       "    </tr>\n",
       "  </tbody>\n",
       "</table>\n",
       "<p>5 rows × 23 columns</p>\n",
       "</div>"
      ],
      "text/plain": [
       "      Month  Occupation  Type_of_Loan  Credit_Mix  Payment_of_Min_Amount  \\\n",
       "0  1.397367    1.344156      1.180605    1.557625               1.101557   \n",
       "1  1.332106    1.344156      1.180605    0.870454               1.101557   \n",
       "2  1.328370    1.344156      1.180605    0.870454               1.101557   \n",
       "3  1.324280    1.344156      1.180605    0.870454               1.101557   \n",
       "4  1.332950    1.344156      1.180605    0.870454               1.101557   \n",
       "\n",
       "   Credit_History_Age_inMonths  Payment_Behaviour       Age  Annual_Income  \\\n",
       "0                        265.0           1.358665 -0.954999      -0.877537   \n",
       "1                        268.0           1.384623 -0.954999      -0.877537   \n",
       "2                        270.0           1.346313 -0.954999      -0.877537   \n",
       "3                        271.0           1.384623 -0.954999      -0.877537   \n",
       "4                        189.0           1.344088 -0.954999      -0.877537   \n",
       "\n",
       "   Monthly_Inhand_Salary  ...  Num_of_Loan  Delay_from_due_date  \\\n",
       "0              -0.842774  ...     0.095782            -1.554334   \n",
       "1               0.172204  ...     0.095782            -1.247952   \n",
       "2               0.172204  ...     0.095782            -0.887868   \n",
       "3              -0.842774  ...     0.095782            -1.554334   \n",
       "4              -0.842774  ...     0.095782            -1.554334   \n",
       "\n",
       "   Num_of_Delayed_Payment  Changed_Credit_Limit  Num_Credit_Inquiries  \\\n",
       "0               -1.014504              0.282597             -0.458657   \n",
       "1               -1.494680             -0.515626             -0.458657   \n",
       "2               -1.494680             -0.009726             -0.458657   \n",
       "3               -0.854446              0.282597             -0.458657   \n",
       "4               -1.174563              0.282597             -0.458657   \n",
       "\n",
       "   Outstanding_Debt  Credit_Utilization_Ratio  Total_EMI_per_month  \\\n",
       "0         -0.405351                 -1.069298            -0.541944   \n",
       "1         -0.405351                 -0.179057            -0.541944   \n",
       "2         -0.405351                 -0.983379            -0.541944   \n",
       "3         -0.405351                 -1.906731            -0.541944   \n",
       "4         -0.405351                 -1.633868            -0.541944   \n",
       "\n",
       "   Amount_invested_monthly  Monthly_Balance  \n",
       "0                -0.700492        -0.376139  \n",
       "1                 0.007920        -0.942993  \n",
       "2                -0.846995        -0.215261  \n",
       "3                -0.097666        -0.799619  \n",
       "4                -1.248614        -0.117208  \n",
       "\n",
       "[5 rows x 23 columns]"
      ]
     },
     "execution_count": 324,
     "metadata": {},
     "output_type": "execute_result"
    }
   ],
   "source": [
    "\n",
    "import category_encoders as ce\n",
    "from sklearn.compose import ColumnTransformer\n",
    "from sklearn.pipeline import Pipeline\n",
    "from sklearn.preprocessing import StandardScaler\n",
    "from xgboost import XGBClassifier\n",
    "from sklearn.metrics import classification_report,confusion_matrix,ConfusionMatrixDisplay\n",
    "from sklearn.metrics import accuracy_score, classification_report, confusion_matrix\n",
    "from sklearn.preprocessing import LabelEncoder\n",
    "\n",
    "\n",
    "column_transformer = ColumnTransformer([\n",
    "    ('target_enc', ce.TargetEncoder(), ['Month', 'Occupation', 'Type_of_Loan', 'Credit_Mix', 'Payment_of_Min_Amount', 'Credit_History_Age_inMonths', 'Payment_Behaviour']),\n",
    "    ('scaler', StandardScaler(), ['Age', 'Annual_Income', 'Monthly_Inhand_Salary', 'Num_Bank_Accounts', 'Num_Credit_Card', 'Interest_Rate', 'Num_of_Loan', 'Delay_from_due_date', \n",
    "                                  'Num_of_Delayed_Payment', 'Changed_Credit_Limit', 'Num_Credit_Inquiries', 'Outstanding_Debt',\n",
    "                                  'Credit_Utilization_Ratio', 'Total_EMI_per_month', 'Amount_invested_monthly', 'Monthly_Balance'])    \n",
    "])\n",
    "\n",
    "pipeline = Pipeline([\n",
    "    ('preprocess', column_transformer),\n",
    "     \n",
    "])\n",
    "x_train=pipeline.fit_transform(x,y)\n",
    "column_names = ['Month', 'Occupation', 'Type_of_Loan', 'Credit_Mix', 'Payment_of_Min_Amount', 'Credit_History_Age_inMonths', 'Payment_Behaviour','Age', 'Annual_Income', \n",
    "                'Monthly_Inhand_Salary', 'Num_Bank_Accounts', 'Num_Credit_Card', 'Interest_Rate', 'Num_of_Loan', 'Delay_from_due_date', \n",
    "                                  'Num_of_Delayed_Payment', 'Changed_Credit_Limit', 'Num_Credit_Inquiries', 'Outstanding_Debt',\n",
    "                                  'Credit_Utilization_Ratio', 'Total_EMI_per_month', 'Amount_invested_monthly', 'Monthly_Balance']\n",
    "df= pd.DataFrame(x_train, columns=column_names)\n",
    "\n",
    "df.head()\n",
    "\n"
   ]
  },
  {
   "cell_type": "code",
   "execution_count": 325,
   "metadata": {},
   "outputs": [],
   "source": [
    "x=df"
   ]
  },
  {
   "cell_type": "code",
   "execution_count": 326,
   "metadata": {},
   "outputs": [],
   "source": [
    "from sklearn.model_selection import train_test_split\n",
    "x_train,x_test,y_train,y_test=train_test_split(x,y,test_size=0.2,random_state=42)"
   ]
  },
  {
   "cell_type": "code",
   "execution_count": 1,
   "metadata": {},
   "outputs": [
    {
     "data": {
      "text/plain": [
       "\"''\\nfrom sklearn.model_selection import train_test_split, GridSearchCV\\n# Define the parameter grid for hyperparameter tuning\\nparam_grid = {\\n    'max_depth': [5],\\n    'learning_rate': [0.1],\\n    'n_estimators': [300],\\n    'min_child_weight': [2],\\n}\\n# Create an XGBoost classifier\\nxgb_model = XGBClassifier()\\n\\ngrid_search = GridSearchCV(estimator=xgb_model, param_grid=param_grid, cv=5, scoring='f1_macro')\\ngrid_search.fit(x_train, y_train)\\n\\n# Get the best model and its parameters\\nbest_model = grid_search.best_estimator_\\nbest_params = grid_search.best_params_\\n\\n# Make predictions on the validation set\\ny_pred = best_model.predict(x_test)\\nprint(classification_report(y_pred,y_test))\\nprint(best_params)\\n\""
      ]
     },
     "execution_count": 1,
     "metadata": {},
     "output_type": "execute_result"
    }
   ],
   "source": [
    "'''''\n",
    "from sklearn.model_selection import train_test_split, GridSearchCV\n",
    "# Define the parameter grid for hyperparameter tuning\n",
    "param_grid = {\n",
    "    'max_depth': [5],\n",
    "    'learning_rate': [0.1],\n",
    "    'n_estimators': [300],\n",
    "    'min_child_weight': [2],\n",
    "}\n",
    "# Create an XGBoost classifier\n",
    "xgb_model = XGBClassifier()\n",
    "\n",
    "grid_search = GridSearchCV(estimator=xgb_model, param_grid=param_grid, cv=5, scoring='f1_macro')\n",
    "grid_search.fit(x_train, y_train)\n",
    "\n",
    "# Get the best model and its parameters\n",
    "best_model = grid_search.best_estimator_\n",
    "best_params = grid_search.best_params_\n",
    "\n",
    "# Make predictions on the validation set\n",
    "y_pred = best_model.predict(x_test)\n",
    "print(classification_report(y_pred,y_test))\n",
    "print(best_params)\n",
    "'''"
   ]
  },
  {
   "cell_type": "code",
   "execution_count": null,
   "metadata": {},
   "outputs": [
    {
     "name": "stdout",
     "output_type": "stream",
     "text": [
      "16614\n"
     ]
    }
   ],
   "source": [
    "print(len(y_test))"
   ]
  },
  {
   "cell_type": "code",
   "execution_count": 328,
   "metadata": {},
   "outputs": [
    {
     "data": {
      "text/plain": [
       "\"''\\nfrom xgboost import XGBClassifier\\nxgb_model = XGBClassifier()\\nxgb_model.fit(x_train,y_train)\\ny_pred=xgb_model.predict(x_test)\\nprint(classification_report(y_pred,y_test))\\n\\n\\naccuracy_test = accuracy_score(y_test, y_pred)\\nconfusion_mat_test = confusion_matrix(y_test, y_pred)\\nprint(accuracy_test)\\nprint(confusion_mat_test)\\n\""
      ]
     },
     "execution_count": 328,
     "metadata": {},
     "output_type": "execute_result"
    }
   ],
   "source": [
    "'''''\n",
    "from xgboost import XGBClassifier\n",
    "xgb_model = XGBClassifier()\n",
    "xgb_model.fit(x_train,y_train)\n",
    "y_pred=xgb_model.predict(x_test)\n",
    "print(classification_report(y_pred,y_test))\n",
    "\n",
    "\n",
    "accuracy_test = accuracy_score(y_test, y_pred)\n",
    "confusion_mat_test = confusion_matrix(y_test, y_pred)\n",
    "print(accuracy_test)\n",
    "print(confusion_mat_test)\n",
    "'''"
   ]
  },
  {
   "cell_type": "code",
   "execution_count": 331,
   "metadata": {},
   "outputs": [
    {
     "name": "stdout",
     "output_type": "stream",
     "text": [
      "              precision    recall  f1-score   support\n",
      "\n",
      "           0       0.75      0.74      0.74      2929\n",
      "           1       0.83      0.82      0.83      4962\n",
      "           2       0.83      0.84      0.83      8723\n",
      "\n",
      "    accuracy                           0.82     16614\n",
      "   macro avg       0.80      0.80      0.80     16614\n",
      "weighted avg       0.82      0.82      0.82     16614\n",
      "\n",
      "0.815517033826893\n",
      "[[2171   33  709]\n",
      " [ 101 4080  716]\n",
      " [ 657  849 7298]]\n"
     ]
    }
   ],
   "source": [
    "\n",
    "from sklearn.ensemble import RandomForestClassifier\n",
    "\n",
    "rf= RandomForestClassifier(n_estimators=200,\n",
    "                              random_state=42,\n",
    "                              max_samples=0.5,\n",
    "                              max_features=0.5,\n",
    "                              max_depth=50)\n",
    "rf.fit(x_train,y_train)\n",
    "y_pred=rf.predict(x_test)\n",
    "\n",
    "print(classification_report(y_pred,y_test))\n",
    "\n",
    "accuracy_test = accuracy_score(y_test, y_pred)\n",
    "confusion_mat_test = confusion_matrix(y_test, y_pred)\n",
    "\n",
    "print(accuracy_test)\n",
    "print(confusion_mat_test)"
   ]
  },
  {
   "cell_type": "code",
   "execution_count": null,
   "metadata": {},
   "outputs": [],
   "source": [
    "import pickle\n",
    "with open('model.pkl','wb') as file1:\n",
    "    pickle.dump(rf,file1)"
   ]
  }
 ],
 "metadata": {
  "kernelspec": {
   "display_name": "base",
   "language": "python",
   "name": "python3"
  },
  "language_info": {
   "codemirror_mode": {
    "name": "ipython",
    "version": 3
   },
   "file_extension": ".py",
   "mimetype": "text/x-python",
   "name": "python",
   "nbconvert_exporter": "python",
   "pygments_lexer": "ipython3",
   "version": "3.9.7"
  },
  "orig_nbformat": 4
 },
 "nbformat": 4,
 "nbformat_minor": 2
}
